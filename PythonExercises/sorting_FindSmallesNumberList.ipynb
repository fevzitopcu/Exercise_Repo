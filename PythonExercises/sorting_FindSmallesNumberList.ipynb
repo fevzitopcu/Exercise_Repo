{
 "cells": [
  {
   "cell_type": "markdown",
   "metadata": {},
   "source": [
    "## Find the Smallest Number in a List\n",
    "Create a function that takes a list of numbers and returns the smallest number in the list.\n",
    "\n",
    "Examples\n",
    "find_smallest_num([34, 15, 88, 2]) ➞ 2\n",
    "\n",
    "find_smallest_num([34, -345, -1, 100]) ➞ -345\n",
    "\n",
    "find_smallest_num([-76, 1.345, 1, 0]) ➞ -76\n",
    "\n",
    "find_smallest_num([0.4356, 0.8795, 0.5435, -0.9999]) ➞ -0.9999\n",
    "\n",
    "find_smallest_num([7, 7, 7]) ➞ 7"
   ]
  },
  {
   "cell_type": "code",
   "execution_count": 1,
   "metadata": {},
   "outputs": [
    {
     "data": {
      "text/plain": [
       "1"
      ]
     },
     "execution_count": 1,
     "metadata": {},
     "output_type": "execute_result"
    }
   ],
   "source": [
    "def findSmallestNum(nums):\n",
    "    for i in range(len(nums)-1,0,-1):\n",
    "        for j in range(i):\n",
    "            if nums[j]>nums[j+1]:\n",
    "                nums[j],nums[j+1]=nums[j+1],nums[j]\n",
    "    return nums[0]\n",
    "\n",
    "findSmallestNum([4, 5, 1, 3])"
   ]
  },
  {
   "cell_type": "code",
   "execution_count": 2,
   "metadata": {},
   "outputs": [
    {
     "data": {
      "text/plain": [
       "1"
      ]
     },
     "execution_count": 2,
     "metadata": {},
     "output_type": "execute_result"
    }
   ],
   "source": [
    "def findSmallestNum(nums):\n",
    "    return min(nums)\n",
    "    \n",
    "findSmallestNum([4, 5, 1, 3])"
   ]
  },
  {
   "cell_type": "code",
   "execution_count": 3,
   "metadata": {},
   "outputs": [
    {
     "data": {
      "text/plain": [
       "1"
      ]
     },
     "execution_count": 3,
     "metadata": {},
     "output_type": "execute_result"
    }
   ],
   "source": [
    "findSmallestNum = lambda nums: min(nums)\n",
    "\n",
    "findSmallestNum([4, 5, 1, 3])"
   ]
  }
 ],
 "metadata": {
  "interpreter": {
   "hash": "9e420b6fa3fd7b9b81ddbcd254cb3b74e9e7beae700425c33bc97f90b494e529"
  },
  "kernelspec": {
   "display_name": "Python 3.9.2 64-bit",
   "language": "python",
   "name": "python3"
  },
  "language_info": {
   "codemirror_mode": {
    "name": "ipython",
    "version": 3
   },
   "file_extension": ".py",
   "mimetype": "text/x-python",
   "name": "python",
   "nbconvert_exporter": "python",
   "pygments_lexer": "ipython3",
   "version": "3.10.2"
  },
  "orig_nbformat": 4
 },
 "nbformat": 4,
 "nbformat_minor": 2
}
