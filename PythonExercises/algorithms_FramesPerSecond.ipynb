{
 "cells": [
  {
   "cell_type": "markdown",
   "metadata": {},
   "source": [
    "## Frames Per Second\n",
    "\n",
    "Create a function that returns the number of frames shown in a given number of minutes for a certain FPS.\n",
    "\n",
    "Examples\n",
    "frames(1, 1) ➞ 60\n",
    "\n",
    "frames(10, 1) ➞ 600\n",
    "\n",
    "frames(10, 25) ➞ 15000\n",
    "\n",
    "Notes\n",
    "FPS stands for \"frames per second\" and it's the number of frames a computer screen shows every second."
   ]
  },
  {
   "cell_type": "code",
   "execution_count": 7,
   "metadata": {},
   "outputs": [
    {
     "data": {
      "text/plain": [
       "7200"
      ]
     },
     "execution_count": 7,
     "metadata": {},
     "output_type": "execute_result"
    }
   ],
   "source": [
    "def frames(minutes, fps):\n",
    "    return minutes*fps*60\n",
    "\n",
    "frames(10, 12)"
   ]
  },
  {
   "cell_type": "code",
   "execution_count": 5,
   "metadata": {},
   "outputs": [
    {
     "data": {
      "text/plain": [
       "7200"
      ]
     },
     "execution_count": 5,
     "metadata": {},
     "output_type": "execute_result"
    }
   ],
   "source": [
    "frames=lambda m,f:m*f*60\n",
    "frames(10,12)"
   ]
  },
  {
   "cell_type": "code",
   "execution_count": null,
   "metadata": {},
   "outputs": [],
   "source": []
  }
 ],
 "metadata": {
  "interpreter": {
   "hash": "9e420b6fa3fd7b9b81ddbcd254cb3b74e9e7beae700425c33bc97f90b494e529"
  },
  "kernelspec": {
   "display_name": "Python 3.9.2 64-bit",
   "language": "python",
   "name": "python3"
  },
  "language_info": {
   "codemirror_mode": {
    "name": "ipython",
    "version": 3
   },
   "file_extension": ".py",
   "mimetype": "text/x-python",
   "name": "python",
   "nbconvert_exporter": "python",
   "pygments_lexer": "ipython3",
   "version": "3.9.2"
  },
  "orig_nbformat": 4
 },
 "nbformat": 4,
 "nbformat_minor": 2
}
