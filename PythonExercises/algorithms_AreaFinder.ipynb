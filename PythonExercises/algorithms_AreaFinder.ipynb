{
 "cells": [
  {
   "cell_type": "markdown",
   "metadata": {},
   "source": [
    "## Triangle and Parallelogram Area Finder\n",
    "Write a function that accepts base (decimal), height (decimal) and shape (\"triangle\", \"parallelogram\") as input and calculates the area of that shape.\n",
    "\n",
    "Examples\n",
    "area_shape(2, 3, \"triangle\") ➞ 3\n",
    "\n",
    "area_shape(8, 6, \"parallelogram\") ➞ 48\n",
    "\n",
    "area_shape(2.9, 1.3, \"parallelogram\") ➞ 3.77\n",
    "Notes\n",
    "Area of a triangle is 0.5 * b * h\n",
    "Area of a parallelogram is b * h\n",
    "Assume triangle and parallelogram are the only inputs for shape."
   ]
  },
  {
   "cell_type": "code",
   "execution_count": 2,
   "metadata": {},
   "outputs": [
    {
     "data": {
      "text/plain": [
       "3.77"
      ]
     },
     "execution_count": 2,
     "metadata": {},
     "output_type": "execute_result"
    }
   ],
   "source": [
    "def area_shape(base, height, shape):\n",
    "    return (base*height*0.5) if shape == \"triangle\" else base*height\n",
    "\n",
    "area_shape(2, 3, \"triangle\")\n",
    "area_shape(2.9, 1.3, \"parallelogram\")"
   ]
  },
  {
   "cell_type": "code",
   "execution_count": 3,
   "metadata": {},
   "outputs": [
    {
     "data": {
      "text/plain": [
       "3.77"
      ]
     },
     "execution_count": 3,
     "metadata": {},
     "output_type": "execute_result"
    }
   ],
   "source": [
    "def area_shape(base, height, shape):\n",
    "\treturn base*height if shape.startswith('p') else 0.5 * base*height\n",
    "area_shape(2.9, 1.3, \"parallelogram\")"
   ]
  },
  {
   "cell_type": "code",
   "execution_count": 5,
   "metadata": {},
   "outputs": [
    {
     "data": {
      "text/plain": [
       "3.77"
      ]
     },
     "execution_count": 5,
     "metadata": {},
     "output_type": "execute_result"
    }
   ],
   "source": [
    "area_shape = lambda base,height,s:0.5 * base*height if s == 'triangle' else base*height\n",
    "\n",
    "area_shape(2.9, 1.3, \"parallelogram\")"
   ]
  },
  {
   "cell_type": "code",
   "execution_count": 7,
   "metadata": {},
   "outputs": [
    {
     "data": {
      "text/plain": [
       "3.77"
      ]
     },
     "execution_count": 7,
     "metadata": {},
     "output_type": "execute_result"
    }
   ],
   "source": [
    "def area_shape(b, h, s):\n",
    "\treturn round(b*h, 3) if s==\"parallelogram\" else round(b*h*0.5, 3)\n",
    "\n",
    "area_shape(2.9, 1.3, \"parallelogram\")"
   ]
  }
 ],
 "metadata": {
  "interpreter": {
   "hash": "9e420b6fa3fd7b9b81ddbcd254cb3b74e9e7beae700425c33bc97f90b494e529"
  },
  "kernelspec": {
   "display_name": "Python 3.9.2 64-bit",
   "language": "python",
   "name": "python3"
  },
  "language_info": {
   "codemirror_mode": {
    "name": "ipython",
    "version": 3
   },
   "file_extension": ".py",
   "mimetype": "text/x-python",
   "name": "python",
   "nbconvert_exporter": "python",
   "pygments_lexer": "ipython3",
   "version": "3.9.2"
  },
  "orig_nbformat": 4
 },
 "nbformat": 4,
 "nbformat_minor": 2
}
