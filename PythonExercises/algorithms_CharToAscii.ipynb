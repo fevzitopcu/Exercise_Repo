{
 "cells": [
  {
   "cell_type": "markdown",
   "metadata": {},
   "source": [
    "## Char-to-ASCII\n",
    "\n",
    "Create a function that returns the ASCII value of the passed in character.\n",
    "\n",
    "Examples\n",
    "ctoa(\"A\") ➞ 65\n",
    "\n",
    "ctoa(\"m\") ➞ 109\n",
    "\n",
    "ctoa(\"[\") ➞ 91\n",
    "\n",
    "ctoa(\"\\\") ➞ 92\n",
    "Notes\n",
    "Don't forget to return the result.\n",
    "If you get stuck on a challenge, find help in the Resources tab.\n",
    "If you're really stuck, unlock solutions in the Solutions tab."
   ]
  },
  {
   "cell_type": "code",
   "execution_count": 8,
   "metadata": {},
   "outputs": [
    {
     "data": {
      "text/plain": [
       "49"
      ]
     },
     "execution_count": 8,
     "metadata": {},
     "output_type": "execute_result"
    }
   ],
   "source": [
    "def ctoa(char):\n",
    "    return ord(char)\n",
    "\n",
    "ctoa(\"1\")\n"
   ]
  }
 ],
 "metadata": {
  "interpreter": {
   "hash": "9e420b6fa3fd7b9b81ddbcd254cb3b74e9e7beae700425c33bc97f90b494e529"
  },
  "kernelspec": {
   "display_name": "Python 3.9.2 64-bit",
   "language": "python",
   "name": "python3"
  },
  "language_info": {
   "codemirror_mode": {
    "name": "ipython",
    "version": 3
   },
   "file_extension": ".py",
   "mimetype": "text/x-python",
   "name": "python",
   "nbconvert_exporter": "python",
   "pygments_lexer": "ipython3",
   "version": "3.9.2"
  },
  "orig_nbformat": 4
 },
 "nbformat": 4,
 "nbformat_minor": 2
}
