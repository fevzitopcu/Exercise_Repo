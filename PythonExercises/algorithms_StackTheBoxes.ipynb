{
 "cells": [
  {
   "cell_type": "markdown",
   "metadata": {},
   "source": [
    "## Stack the Boxes\n",
    "Here's an image of four models. Some of the cubes are hidden behind other cubes. Model one consists of one cube. Model two consists of four cubes, and so on...\n",
    "\n",
    "Stack the Boxes\n",
    "\n",
    "Write a function that takes a number n and returns the number of stacked boxes in a model n levels high, visible and invisible.\n",
    "\n",
    "Examples\n",
    "stack_boxes(1) ➞ 1\n",
    "\n",
    "stack_boxes(2) ➞ 4\n",
    "\n",
    "stack_boxes(0) ➞ 0\n",
    "Notes\n",
    "Step n is a positive integer."
   ]
  },
  {
   "cell_type": "code",
   "execution_count": 1,
   "metadata": {},
   "outputs": [
    {
     "data": {
      "text/plain": [
       "4"
      ]
     },
     "execution_count": 1,
     "metadata": {},
     "output_type": "execute_result"
    }
   ],
   "source": [
    "def stack_boxes(n):\n",
    "    return n**2\n",
    "\n",
    "stack_boxes(2)"
   ]
  }
 ],
 "metadata": {
  "interpreter": {
   "hash": "9e420b6fa3fd7b9b81ddbcd254cb3b74e9e7beae700425c33bc97f90b494e529"
  },
  "kernelspec": {
   "display_name": "Python 3.9.2 64-bit",
   "language": "python",
   "name": "python3"
  },
  "language_info": {
   "codemirror_mode": {
    "name": "ipython",
    "version": 3
   },
   "file_extension": ".py",
   "mimetype": "text/x-python",
   "name": "python",
   "nbconvert_exporter": "python",
   "pygments_lexer": "ipython3",
   "version": "3.9.2"
  },
  "orig_nbformat": 4
 },
 "nbformat": 4,
 "nbformat_minor": 2
}
