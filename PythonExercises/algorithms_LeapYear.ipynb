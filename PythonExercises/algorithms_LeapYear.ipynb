{
 "cells": [
  {
   "cell_type": "markdown",
   "metadata": {},
   "source": [
    "## Find Out the Leap Year\n",
    "\n",
    "A leap year happens every four years, so it's a year that is perfectly divisible by four. However, if the year is a multiple of 100 (1800, 1900, etc), the year must be divisible by 400.\n",
    "\n",
    "Write a function that determines if the year is a leap year or not.\n",
    "\n",
    "Examples\n",
    "leap_year(2020) ➞ True\n",
    "\n",
    "leap_year(2021) ➞ False\n",
    "\n",
    "leap_year(1968) ➞ True"
   ]
  },
  {
   "cell_type": "code",
   "execution_count": 11,
   "metadata": {},
   "outputs": [
    {
     "data": {
      "text/plain": [
       "False"
      ]
     },
     "execution_count": 11,
     "metadata": {},
     "output_type": "execute_result"
    }
   ],
   "source": [
    "def leap_year(year):\n",
    "    return True if year%400==0 or (year%100!=0 and year%4==0) else False\n",
    "leap_year(2020)\n",
    "leap_year(2021)\n",
    "leap_year(1968)\n",
    "leap_year(2200)"
   ]
  },
  {
   "cell_type": "code",
   "execution_count": 13,
   "metadata": {},
   "outputs": [
    {
     "data": {
      "text/plain": [
       "False"
      ]
     },
     "execution_count": 13,
     "metadata": {},
     "output_type": "execute_result"
    }
   ],
   "source": [
    "leap_year = lambda y:(y%4==0 and y%100!=0) or (y%400==0)\n",
    "leap_year(2200)"
   ]
  },
  {
   "cell_type": "code",
   "execution_count": 15,
   "metadata": {},
   "outputs": [
    {
     "data": {
      "text/plain": [
       "True"
      ]
     },
     "execution_count": 15,
     "metadata": {},
     "output_type": "execute_result"
    }
   ],
   "source": [
    "from calendar import isleap as leap_year\n",
    "\n",
    "leap_year(2200)\n"
   ]
  },
  {
   "cell_type": "code",
   "execution_count": 1,
   "metadata": {},
   "outputs": [
    {
     "data": {
      "text/plain": [
       "True"
      ]
     },
     "execution_count": 1,
     "metadata": {},
     "output_type": "execute_result"
    }
   ],
   "source": [
    "from calendar import isleap as leap_year\n",
    "\n",
    "\n",
    "leap_year(1968)"
   ]
  }
 ],
 "metadata": {
  "interpreter": {
   "hash": "9e420b6fa3fd7b9b81ddbcd254cb3b74e9e7beae700425c33bc97f90b494e529"
  },
  "kernelspec": {
   "display_name": "Python 3.9.2 64-bit",
   "language": "python",
   "name": "python3"
  },
  "language_info": {
   "codemirror_mode": {
    "name": "ipython",
    "version": 3
   },
   "file_extension": ".py",
   "mimetype": "text/x-python",
   "name": "python",
   "nbconvert_exporter": "python",
   "pygments_lexer": "ipython3",
   "version": "3.9.2"
  },
  "orig_nbformat": 4
 },
 "nbformat": 4,
 "nbformat_minor": 2
}
