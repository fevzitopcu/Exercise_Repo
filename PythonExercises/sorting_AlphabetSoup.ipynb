{
 "cells": [
  {
   "cell_type": "markdown",
   "metadata": {},
   "source": [
    "## Alphabet Soup\n",
    "Create a function that takes a string and returns a string with its letters in alphabetical order.\n",
    "\n",
    "Examples\n",
    "alphabet_soup(\"hello\") ➞ \"ehllo\"\n",
    "\n",
    "alphabet_soup(\"edabit\") ➞ \"abdeit\"\n",
    "\n",
    "alphabet_soup(\"hacker\") ➞ \"acehkr\"\n",
    "\n",
    "alphabet_soup(\"geek\") ➞ \"eegk\"\n",
    "\n",
    "alphabet_soup(\"javascript\") ➞ \"aacijprstv\""
   ]
  },
  {
   "cell_type": "code",
   "execution_count": null,
   "metadata": {},
   "outputs": [],
   "source": [
    "def alphabet_soup(txt):\n",
    "    return print(*sorted(txt), sep=\"\")\n",
    "\n",
    "alphabet_soup(\"javascript\")"
   ]
  },
  {
   "cell_type": "code",
   "execution_count": 33,
   "metadata": {},
   "outputs": [
    {
     "data": {
      "text/plain": [
       "'aacijprstv'"
      ]
     },
     "execution_count": 33,
     "metadata": {},
     "output_type": "execute_result"
    }
   ],
   "source": [
    "def alphabet_soup(text1):\n",
    "    text = [i for i in text1]\n",
    "    str =\"\"\n",
    "    for i in range(len(text)-1,0,-1):\n",
    "        for j in range(i):\n",
    "            if text[j]>text[j+1]:\n",
    "                text[j],text[j+1]=text[j+1],text[j]\n",
    "    for a in text:\n",
    "        str += a\n",
    "    return str\n",
    "\n",
    "\n",
    "alphabet_soup(\"javascript\")\n",
    "\n"
   ]
  },
  {
   "cell_type": "code",
   "execution_count": 29,
   "metadata": {},
   "outputs": [
    {
     "data": {
      "text/plain": [
       "['j', 'a', 'v', 'a', 's', 'c', 'r', 'i', 'p', 't']"
      ]
     },
     "execution_count": 29,
     "metadata": {},
     "output_type": "execute_result"
    }
   ],
   "source": [
    "text1= \"javascript\"\n",
    "text = [i for i in text1]\n",
    "text"
   ]
  },
  {
   "cell_type": "code",
   "execution_count": null,
   "metadata": {},
   "outputs": [],
   "source": [
    "def sort_str(text):\n",
    "    str =\"\"\n",
    "    for i in range(len(text)-1,0,-1):\n",
    "        for j in range(i):\n",
    "            if text[j]>text[j+1]:\n",
    "                text[j],text[j+1]=text[j+1],text[j]\n",
    "    for a in text:\n",
    "        str += a\n",
    "    return str\n",
    "\n",
    "\n",
    "sort_str([\"d\",\"a\",\"c\",\"b\",\"b\"])\n"
   ]
  }
 ],
 "metadata": {
  "interpreter": {
   "hash": "9e420b6fa3fd7b9b81ddbcd254cb3b74e9e7beae700425c33bc97f90b494e529"
  },
  "kernelspec": {
   "display_name": "Python 3.9.2 64-bit",
   "language": "python",
   "name": "python3"
  },
  "language_info": {
   "codemirror_mode": {
    "name": "ipython",
    "version": 3
   },
   "file_extension": ".py",
   "mimetype": "text/x-python",
   "name": "python",
   "nbconvert_exporter": "python",
   "pygments_lexer": "ipython3",
   "version": "3.9.2"
  },
  "orig_nbformat": 4
 },
 "nbformat": 4,
 "nbformat_minor": 2
}
