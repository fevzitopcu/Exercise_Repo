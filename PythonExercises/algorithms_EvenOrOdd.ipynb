{
 "cells": [
  {
   "cell_type": "markdown",
   "metadata": {},
   "source": [
    "## Even or Odd?\n",
    "\n",
    "Given a list of integers, determine whether the sum of its elements is even or odd.\n",
    "\n",
    "The return value should be a string (\"odd\" or \"even\").\n",
    "\n",
    "If the input list is empty, consider it as a list with a zero ([0]).\n",
    "\n",
    "Examples\n",
    "even_or_odd([0]) ➞ \"even\"\n",
    "\n",
    "even_or_odd([1]) ➞ \"odd\"\n",
    "\n",
    "even_or_odd([]) ➞ \"even\"\n",
    "\n",
    "even_or_odd([0, 1, 5]) ➞ \"even\""
   ]
  },
  {
   "cell_type": "code",
   "execution_count": 4,
   "metadata": {},
   "outputs": [
    {
     "data": {
      "text/plain": [
       "'odd'"
      ]
     },
     "execution_count": 4,
     "metadata": {},
     "output_type": "execute_result"
    }
   ],
   "source": [
    "def even_or_odd(lst):\n",
    "    return \"even\" if sum(lst)%2==0 else \"odd\"\n",
    "    \n",
    "even_or_odd([1,3,5])"
   ]
  },
  {
   "cell_type": "code",
   "execution_count": 5,
   "metadata": {},
   "outputs": [
    {
     "data": {
      "text/plain": [
       "'odd'"
      ]
     },
     "execution_count": 5,
     "metadata": {},
     "output_type": "execute_result"
    }
   ],
   "source": [
    "result = lambda l:'odd' if sum(l) % 2 else 'even'\n",
    "result([1,3,5])"
   ]
  }
 ],
 "metadata": {
  "interpreter": {
   "hash": "9e420b6fa3fd7b9b81ddbcd254cb3b74e9e7beae700425c33bc97f90b494e529"
  },
  "kernelspec": {
   "display_name": "Python 3.9.2 64-bit",
   "language": "python",
   "name": "python3"
  },
  "language_info": {
   "codemirror_mode": {
    "name": "ipython",
    "version": 3
   },
   "file_extension": ".py",
   "mimetype": "text/x-python",
   "name": "python",
   "nbconvert_exporter": "python",
   "pygments_lexer": "ipython3",
   "version": "3.9.2"
  },
  "orig_nbformat": 4
 },
 "nbformat": 4,
 "nbformat_minor": 2
}
