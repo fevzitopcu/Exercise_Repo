{
 "cells": [
  {
   "cell_type": "markdown",
   "metadata": {},
   "source": [
    "## How Many D's Are There?\n",
    "Create a function that counts how many D's are in a sentence.\n",
    "\n",
    "Examples\n",
    "count_d(\"My friend Dylan got distracted in school.\") ➞ 4\n",
    "\n",
    "count_d(\"Debris was scattered all over the yard.\") ➞ 3\n",
    "\n",
    "count_d(\"The rodents hibernated in their den.\") ➞ 3\n",
    "Notes\n",
    "Your function must be case-insensitive.\n",
    "Remember to return the result."
   ]
  },
  {
   "cell_type": "code",
   "execution_count": 2,
   "metadata": {},
   "outputs": [
    {
     "data": {
      "text/plain": [
       "3"
      ]
     },
     "execution_count": 2,
     "metadata": {},
     "output_type": "execute_result"
    }
   ],
   "source": [
    "def count_d(sentence):\n",
    "    count = 0\n",
    "    for i in sentence:\n",
    "        if i == \"d\" or i == \"D\":\n",
    "            count +=1\n",
    "    return count\n",
    "count_d(\"My friend Dylan got distracted in school.\")\n",
    "count_d(\"The rodents hibernated in their den.\")"
   ]
  },
  {
   "cell_type": "code",
   "execution_count": 3,
   "metadata": {},
   "outputs": [
    {
     "data": {
      "text/plain": [
       "3"
      ]
     },
     "execution_count": 3,
     "metadata": {},
     "output_type": "execute_result"
    }
   ],
   "source": [
    "count_d=lambda sentence:sentence.upper().count('D')\n",
    "\n",
    "count_d(\"The rodents hibernated in their den.\")"
   ]
  },
  {
   "cell_type": "code",
   "execution_count": 4,
   "metadata": {},
   "outputs": [
    {
     "data": {
      "text/plain": [
       "3"
      ]
     },
     "execution_count": 4,
     "metadata": {},
     "output_type": "execute_result"
    }
   ],
   "source": [
    "import re\n",
    "def count_d(sentence):\n",
    "\treturn len(re.findall('d|D', sentence))\n",
    "\n",
    "count_d(\"The rodents hibernated in their den.\")"
   ]
  },
  {
   "cell_type": "code",
   "execution_count": 9,
   "metadata": {},
   "outputs": [
    {
     "data": {
      "text/plain": [
       "3"
      ]
     },
     "execution_count": 9,
     "metadata": {},
     "output_type": "execute_result"
    }
   ],
   "source": [
    "def count_d(sentence):\n",
    "    \n",
    "\treturn sum([1 for i in sentence.lower() if i=='d'])\n",
    "    \n",
    "\n",
    "count_d(\"The rodents hibernated in their den.\")"
   ]
  }
 ],
 "metadata": {
  "interpreter": {
   "hash": "9e420b6fa3fd7b9b81ddbcd254cb3b74e9e7beae700425c33bc97f90b494e529"
  },
  "kernelspec": {
   "display_name": "Python 3.9.2 64-bit",
   "language": "python",
   "name": "python3"
  },
  "language_info": {
   "codemirror_mode": {
    "name": "ipython",
    "version": 3
   },
   "file_extension": ".py",
   "mimetype": "text/x-python",
   "name": "python",
   "nbconvert_exporter": "python",
   "pygments_lexer": "ipython3",
   "version": "3.9.2"
  },
  "orig_nbformat": 4
 },
 "nbformat": 4,
 "nbformat_minor": 2
}
