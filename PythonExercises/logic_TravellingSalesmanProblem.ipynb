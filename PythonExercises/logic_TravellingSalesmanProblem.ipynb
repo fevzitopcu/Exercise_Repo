{
 "cells": [
  {
   "cell_type": "markdown",
   "metadata": {},
   "source": [
    "## Travelling Salesman Problem\n",
    "A salesman has a number of cities to visit. They want to calculate the total number of possible paths they could take, visiting each city once before returning home. Return the total number of possible paths a salesman can travel, given n cities.\n",
    "\n",
    "If we have cities A, B and C, possible paths would be:\n",
    "\n",
    "A -> B -> C\n",
    "A -> C -> B\n",
    "B -> A -> C\n",
    "B -> C -> A\n",
    "C -> B -> A\n",
    "C -> A -> B\n",
    "... which gives us 6 as the possible number of paths.\n",
    "\n",
    "Examples\n",
    "paths(4) ➞ 24\n",
    "\n",
    "paths(1) ➞ 1\n",
    "\n",
    "paths(9) ➞ 362880\n",
    "Notes\n",
    "Inspired by a video from Dr. Peter Uelkes.\n",
    "This challenge is describing a factorial."
   ]
  },
  {
   "cell_type": "code",
   "execution_count": 1,
   "metadata": {},
   "outputs": [
    {
     "data": {
      "text/plain": [
       "362880"
      ]
     },
     "execution_count": 1,
     "metadata": {},
     "output_type": "execute_result"
    }
   ],
   "source": [
    "import math\n",
    "def paths(n):\n",
    "\n",
    "    return math.factorial(n)\n",
    "\n",
    "paths(9)"
   ]
  },
  {
   "cell_type": "code",
   "execution_count": 3,
   "metadata": {},
   "outputs": [
    {
     "data": {
      "text/plain": [
       "720"
      ]
     },
     "execution_count": 3,
     "metadata": {},
     "output_type": "execute_result"
    }
   ],
   "source": [
    "def paths(n):\n",
    "    if n == 0 or n == 1:\n",
    "        return 1\n",
    "    return n*paths(n-1)\n",
    "\n",
    "paths(6)"
   ]
  },
  {
   "cell_type": "code",
   "execution_count": null,
   "metadata": {},
   "outputs": [],
   "source": []
  }
 ],
 "metadata": {
  "interpreter": {
   "hash": "9e420b6fa3fd7b9b81ddbcd254cb3b74e9e7beae700425c33bc97f90b494e529"
  },
  "kernelspec": {
   "display_name": "Python 3.9.2 64-bit",
   "language": "python",
   "name": "python3"
  },
  "language_info": {
   "codemirror_mode": {
    "name": "ipython",
    "version": 3
   },
   "file_extension": ".py",
   "mimetype": "text/x-python",
   "name": "python",
   "nbconvert_exporter": "python",
   "pygments_lexer": "ipython3",
   "version": "3.9.2"
  },
  "orig_nbformat": 4
 },
 "nbformat": 4,
 "nbformat_minor": 2
}
