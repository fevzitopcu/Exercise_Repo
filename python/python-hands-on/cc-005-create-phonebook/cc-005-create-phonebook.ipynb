{
 "cells": [
  {
   "cell_type": "code",
   "execution_count": null,
   "metadata": {},
   "outputs": [],
   "source": [
    "print(\n",
    "    \"\"\"\n",
    "    Welcome to the phonebook application\n",
    "    \n",
    "    1. Find phone number\n",
    "    2. Insert a phone number\n",
    "    3. Delete a person from the phonebook\n",
    "    4. Terminate\n",
    "\n",
    "    Select operation on Phonebook App (1/2/3) :\n",
    "    \"\"\"\n",
    ")"
   ]
  },
  {
   "cell_type": "code",
   "execution_count": null,
   "metadata": {},
   "outputs": [],
   "source": [
    "\n",
    "while True:\n",
    "    input = (\"Select operation on Phonebook App (1/2/3) :\")\n",
    "    if input == '1':\n",
    "        checkBook()"
   ]
  }
 ],
 "metadata": {
  "interpreter": {
   "hash": "d09b349a55f02c8f7cacf0d17c2a66f7a1d88fee7adaebec46641d29cfa141dd"
  },
  "kernelspec": {
   "display_name": "Python 3.10.2 64-bit",
   "language": "python",
   "name": "python3"
  },
  "language_info": {
   "codemirror_mode": {
    "name": "ipython",
    "version": 3
   },
   "file_extension": ".py",
   "mimetype": "text/x-python",
   "name": "python",
   "nbconvert_exporter": "python",
   "pygments_lexer": "ipython3",
   "version": "3.10.2"
  },
  "orig_nbformat": 4
 },
 "nbformat": 4,
 "nbformat_minor": 2
}
