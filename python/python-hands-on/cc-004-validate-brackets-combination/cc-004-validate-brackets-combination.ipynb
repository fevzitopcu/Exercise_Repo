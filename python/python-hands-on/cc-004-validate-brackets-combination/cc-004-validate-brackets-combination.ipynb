{
 "cells": [
  {
   "cell_type": "markdown",
   "metadata": {},
   "source": [
    "Problem Statement\n",
    "Write a function that given a string containing just the characters (, ), {, }, [ and ], determines if the input string is valid or not by using following rules.\n",
    "\n",
    "An input string is valid if:\n",
    "Open brackets must be closed by the same type of brackets.\n",
    "Open brackets must be closed in the correct order.\n",
    "Note that an empty string is also considered valid.\n",
    "Example for user inputs and respective outputs\n",
    "\n",
    "Input           Output\n",
    "------------    ------\n",
    "\"()\"            true\n",
    "\"()[]{}\"        true\n",
    "\"(]\"            false\n",
    "\"([)]\"          false\n",
    "\"{[]}\"          true\n",
    "\"\"              true"
   ]
  },
  {
   "cell_type": "code",
   "execution_count": 19,
   "metadata": {},
   "outputs": [
    {
     "name": "stdout",
     "output_type": "stream",
     "text": [
      "[(())]\n",
      "[()]\n",
      "\n",
      "True\n"
     ]
    }
   ],
   "source": [
    "str = \"[{}(([]{}))]\"\n",
    "while \"()\" in str or \"[]\" in str or \"{}\" in str :\n",
    "    str = str.replace(\"()\", \"\").replace(\"[]\", \"\").replace(\"{}\", \"\")\n",
    "    print(str)\n",
    "print(str==\"\")\n"
   ]
  }
 ],
 "metadata": {
  "interpreter": {
   "hash": "d09b349a55f02c8f7cacf0d17c2a66f7a1d88fee7adaebec46641d29cfa141dd"
  },
  "kernelspec": {
   "display_name": "Python 3.10.2 64-bit",
   "language": "python",
   "name": "python3"
  },
  "language_info": {
   "codemirror_mode": {
    "name": "ipython",
    "version": 3
   },
   "file_extension": ".py",
   "mimetype": "text/x-python",
   "name": "python",
   "nbconvert_exporter": "python",
   "pygments_lexer": "ipython3",
   "version": "3.10.2"
  },
  "orig_nbformat": 4
 },
 "nbformat": 4,
 "nbformat_minor": 2
}
