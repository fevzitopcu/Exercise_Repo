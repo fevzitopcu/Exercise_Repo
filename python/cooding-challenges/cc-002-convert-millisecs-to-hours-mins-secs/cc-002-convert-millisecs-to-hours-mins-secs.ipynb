{
 "cells": [
  {
   "cell_type": "markdown",
   "metadata": {},
   "source": [
    "# This program converts milliseconds into hours, minutes, and seconds\n",
    "# (To exit the program, please type \"exit\")\n",
    "# Please enter the milliseconds (should be greater than zero) :"
   ]
  },
  {
   "cell_type": "code",
   "execution_count": 2,
   "metadata": {},
   "outputs": [
    {
     "name": "stdout",
     "output_type": "stream",
     "text": [
      "2:02:02.011000\n"
     ]
    }
   ],
   "source": [
    "import datetime\n",
    "\n",
    "milisec = int(input(\"enter milisec: \"))\n",
    "time = datetime.timedelta(milliseconds=milisec)\n",
    "print(time)"
   ]
  },
  {
   "cell_type": "code",
   "execution_count": 5,
   "metadata": {},
   "outputs": [
    {
     "data": {
      "text/plain": [
       "'00:55:12'"
      ]
     },
     "execution_count": 5,
     "metadata": {},
     "output_type": "execute_result"
    }
   ],
   "source": [
    "from datetime import datetime\n",
    "\n",
    "datetime.now().strftime('%H:%M:%S')\n",
    "# datetime.now().strftime('%H:%M:%S.%f')"
   ]
  },
  {
   "cell_type": "code",
   "execution_count": 6,
   "metadata": {},
   "outputs": [
    {
     "name": "stdout",
     "output_type": "stream",
     "text": [
      "21:31:18\n"
     ]
    }
   ],
   "source": [
    "millis=input(\"Enter time in milliseconds \")\n",
    "millis = int(millis)\n",
    "seconds=(millis/1000)%60\n",
    "seconds = int(seconds)\n",
    "minutes=(millis/(1000*60))%60\n",
    "minutes = int(minutes)\n",
    "hours=(millis/(1000*60*60))%24\n",
    "\n",
    "print (\"%d:%d:%d\" % (hours, minutes, seconds))"
   ]
  }
 ],
 "metadata": {
  "interpreter": {
   "hash": "d09b349a55f02c8f7cacf0d17c2a66f7a1d88fee7adaebec46641d29cfa141dd"
  },
  "kernelspec": {
   "display_name": "Python 3.10.2 64-bit",
   "language": "python",
   "name": "python3"
  },
  "language_info": {
   "codemirror_mode": {
    "name": "ipython",
    "version": 3
   },
   "file_extension": ".py",
   "mimetype": "text/x-python",
   "name": "python",
   "nbconvert_exporter": "python",
   "pygments_lexer": "ipython3",
   "version": "3.10.2"
  },
  "orig_nbformat": 4
 },
 "nbformat": 4,
 "nbformat_minor": 2
}
