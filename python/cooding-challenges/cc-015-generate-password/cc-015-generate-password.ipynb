{
 "cells": [
  {
   "cell_type": "code",
   "execution_count": 4,
   "metadata": {},
   "outputs": [
    {
     "name": "stdout",
     "output_type": "stream",
     "text": [
      "['ü', 'ü', 'ü', 'ü']\n",
      "üüü2709\n"
     ]
    }
   ],
   "source": [
    "import random\n",
    "import string\n",
    "\n",
    "name = input(\"please enter yor fullname without spaces\")\n",
    "\n",
    "name  = list(name.lower())\n",
    "number= list(string.digits)\n",
    "\n",
    "random.shuffle(name)\n",
    "print(name)\n",
    "random.shuffle(number)\n",
    "part1=name[0:3]\n",
    "part2=number[0:4]\n",
    "\n",
    "password= \"\".join(part1+part2)\n",
    "\n",
    "print(password)"
   ]
  },
  {
   "cell_type": "code",
   "execution_count": 60,
   "metadata": {},
   "outputs": [
    {
     "name": "stdout",
     "output_type": "stream",
     "text": [
      "your password : fmn8279\n"
     ]
    }
   ],
   "source": [
    "import string\n",
    "from random import *\n",
    "\n",
    "name = input(\"please enter yor fullname without spaces\")\n",
    "\n",
    "part1 =  \"\".join(choice(name) for x in range(randint(3,3)))\n",
    "part2 =  \"\".join(choice(string.digits) for x in range(randint(4, 4)))\n",
    "passwd = part1+part2\n",
    "print(\"your password : \" + passwd)"
   ]
  },
  {
   "cell_type": "code",
   "execution_count": 87,
   "metadata": {},
   "outputs": [
    {
     "name": "stdout",
     "output_type": "stream",
     "text": [
      "please enter again without whitespace\n",
      "please enter again without whitespace\n",
      "fff2601\n"
     ]
    }
   ],
   "source": [
    "import string\n",
    "from random import *\n",
    "\n",
    "def create(name):\n",
    "    part1 =  \"\".join(choice(name) for x in range(randint(3,3)))\n",
    "    part2 =  \"\".join(choice(string.digits) for x in range(randint(4, 4)))\n",
    "    passwd = part1+part2\n",
    "    return print(passwd)\n",
    "\n",
    "while True:\n",
    "    name = input(\"please enter yor fullname without spaces\")\n",
    "    for i in name:\n",
    "        if i == ' ':\n",
    "            print(\"please enter again without whitespace\")\n",
    "            continue\n",
    "    else:\n",
    "        create(name)\n",
    "        break\n",
    "\n"
   ]
  },
  {
   "cell_type": "code",
   "execution_count": null,
   "metadata": {},
   "outputs": [],
   "source": []
  }
 ],
 "metadata": {
  "interpreter": {
   "hash": "d09b349a55f02c8f7cacf0d17c2a66f7a1d88fee7adaebec46641d29cfa141dd"
  },
  "kernelspec": {
   "display_name": "Python 3.10.2 64-bit",
   "language": "python",
   "name": "python3"
  },
  "language_info": {
   "codemirror_mode": {
    "name": "ipython",
    "version": 3
   },
   "file_extension": ".py",
   "mimetype": "text/x-python",
   "name": "python",
   "nbconvert_exporter": "python",
   "pygments_lexer": "ipython3",
   "version": "3.10.2"
  },
  "orig_nbformat": 4
 },
 "nbformat": 4,
 "nbformat_minor": 2
}
