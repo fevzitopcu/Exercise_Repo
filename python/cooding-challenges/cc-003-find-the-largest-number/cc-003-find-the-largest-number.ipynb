{
 "cells": [
  {
   "cell_type": "code",
   "execution_count": 14,
   "metadata": {},
   "outputs": [
    {
     "name": "stdout",
     "output_type": "stream",
     "text": [
      "[0, 1, 2, 3, 4, 5, 6, 7, 8, 9]\n"
     ]
    }
   ],
   "source": [
    "# buble sort\n",
    "\n",
    "list = [5,3,4,6,7,1,0,9,2,8]\n",
    "\n",
    "for i in range(0, len(list)):\n",
    "    for j in range(0,len(list)-1):\n",
    "        if list[j]>list[j+1]:\n",
    "            list[j],list[j+1]=list[j+1],list[j]\n",
    "        else:\n",
    "            continue     \n",
    "\n",
    "print(list)"
   ]
  },
  {
   "cell_type": "code",
   "execution_count": 13,
   "metadata": {},
   "outputs": [
    {
     "data": {
      "text/plain": [
       "9"
      ]
     },
     "execution_count": 13,
     "metadata": {},
     "output_type": "execute_result"
    }
   ],
   "source": [
    "# solution with buble sort algorithm\n",
    "\n",
    "list = [5,3,4,6,7,1,0,9,2,8]\n",
    "\n",
    "def largest(list):\n",
    "    for i in range(0, len(list)):\n",
    "        for j in range(0,len(list)-1):\n",
    "            if list[j]>list[j+1]:\n",
    "                list[j],list[j+1]=list[j+1],list[j]\n",
    "            else:\n",
    "                continue   \n",
    "    return list[-1]\n",
    "\n",
    "largest(list)"
   ]
  }
 ],
 "metadata": {
  "interpreter": {
   "hash": "d09b349a55f02c8f7cacf0d17c2a66f7a1d88fee7adaebec46641d29cfa141dd"
  },
  "kernelspec": {
   "display_name": "Python 3.10.2 64-bit",
   "language": "python",
   "name": "python3"
  },
  "language_info": {
   "codemirror_mode": {
    "name": "ipython",
    "version": 3
   },
   "file_extension": ".py",
   "mimetype": "text/x-python",
   "name": "python",
   "nbconvert_exporter": "python",
   "pygments_lexer": "ipython3",
   "version": "3.10.2"
  },
  "orig_nbformat": 4
 },
 "nbformat": 4,
 "nbformat_minor": 2
}
